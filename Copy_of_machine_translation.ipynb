{
  "nbformat": 4,
  "nbformat_minor": 0,
  "metadata": {
    "colab": {
      "provenance": [],
      "authorship_tag": "ABX9TyOGqO0y2RlWllfqlHixtpEm",
      "include_colab_link": true
    },
    "kernelspec": {
      "name": "python3",
      "display_name": "Python 3"
    },
    "language_info": {
      "name": "python"
    }
  },
  "cells": [
    {
      "cell_type": "markdown",
      "metadata": {
        "id": "view-in-github",
        "colab_type": "text"
      },
      "source": [
        "<a href=\"https://colab.research.google.com/github/shaikbeparisuhanaafreen-ctrl/vertex_ai_machine_translation/blob/main/Copy_of_machine_translation.ipynb\" target=\"_parent\"><img src=\"https://colab.research.google.com/assets/colab-badge.svg\" alt=\"Open In Colab\"/></a>"
      ]
    },
    {
      "cell_type": "code",
      "execution_count": null,
      "metadata": {
        "colab": {
          "base_uri": "https://localhost:8080/"
        },
        "id": "5Ksr0HKUzWby",
        "outputId": "b82f9b49-1ee3-4596-a110-b1a050649ead"
      },
      "outputs": [
        {
          "output_type": "stream",
          "name": "stdout",
          "text": [
            "Requirement already satisfied: google-cloud-translate in /usr/local/lib/python3.12/dist-packages (3.21.1)\n",
            "Requirement already satisfied: google-api-core!=2.0.*,!=2.1.*,!=2.10.*,!=2.2.*,!=2.3.*,!=2.4.*,!=2.5.*,!=2.6.*,!=2.7.*,!=2.8.*,!=2.9.*,<3.0.0,>=1.34.1 in /usr/local/lib/python3.12/dist-packages (from google-api-core[grpc]!=2.0.*,!=2.1.*,!=2.10.*,!=2.2.*,!=2.3.*,!=2.4.*,!=2.5.*,!=2.6.*,!=2.7.*,!=2.8.*,!=2.9.*,<3.0.0,>=1.34.1->google-cloud-translate) (2.25.1)\n",
            "Requirement already satisfied: google-auth!=2.24.0,!=2.25.0,<3.0.0,>=2.14.1 in /usr/local/lib/python3.12/dist-packages (from google-cloud-translate) (2.38.0)\n",
            "Requirement already satisfied: google-cloud-core<3.0.0,>=1.4.4 in /usr/local/lib/python3.12/dist-packages (from google-cloud-translate) (2.4.3)\n",
            "Requirement already satisfied: proto-plus<2.0.0,>=1.22.3 in /usr/local/lib/python3.12/dist-packages (from google-cloud-translate) (1.26.1)\n",
            "Requirement already satisfied: protobuf!=4.21.0,!=4.21.1,!=4.21.2,!=4.21.3,!=4.21.4,!=4.21.5,<7.0.0,>=3.20.2 in /usr/local/lib/python3.12/dist-packages (from google-cloud-translate) (5.29.5)\n",
            "Requirement already satisfied: grpc-google-iam-v1<1.0.0,>=0.14.0 in /usr/local/lib/python3.12/dist-packages (from google-cloud-translate) (0.14.2)\n",
            "Requirement already satisfied: googleapis-common-protos<2.0.0,>=1.56.2 in /usr/local/lib/python3.12/dist-packages (from google-api-core!=2.0.*,!=2.1.*,!=2.10.*,!=2.2.*,!=2.3.*,!=2.4.*,!=2.5.*,!=2.6.*,!=2.7.*,!=2.8.*,!=2.9.*,<3.0.0,>=1.34.1->google-api-core[grpc]!=2.0.*,!=2.1.*,!=2.10.*,!=2.2.*,!=2.3.*,!=2.4.*,!=2.5.*,!=2.6.*,!=2.7.*,!=2.8.*,!=2.9.*,<3.0.0,>=1.34.1->google-cloud-translate) (1.70.0)\n",
            "Requirement already satisfied: requests<3.0.0,>=2.18.0 in /usr/local/lib/python3.12/dist-packages (from google-api-core!=2.0.*,!=2.1.*,!=2.10.*,!=2.2.*,!=2.3.*,!=2.4.*,!=2.5.*,!=2.6.*,!=2.7.*,!=2.8.*,!=2.9.*,<3.0.0,>=1.34.1->google-api-core[grpc]!=2.0.*,!=2.1.*,!=2.10.*,!=2.2.*,!=2.3.*,!=2.4.*,!=2.5.*,!=2.6.*,!=2.7.*,!=2.8.*,!=2.9.*,<3.0.0,>=1.34.1->google-cloud-translate) (2.32.4)\n",
            "Requirement already satisfied: grpcio<2.0.0,>=1.33.2 in /usr/local/lib/python3.12/dist-packages (from google-api-core[grpc]!=2.0.*,!=2.1.*,!=2.10.*,!=2.2.*,!=2.3.*,!=2.4.*,!=2.5.*,!=2.6.*,!=2.7.*,!=2.8.*,!=2.9.*,<3.0.0,>=1.34.1->google-cloud-translate) (1.74.0)\n",
            "Requirement already satisfied: grpcio-status<2.0.0,>=1.33.2 in /usr/local/lib/python3.12/dist-packages (from google-api-core[grpc]!=2.0.*,!=2.1.*,!=2.10.*,!=2.2.*,!=2.3.*,!=2.4.*,!=2.5.*,!=2.6.*,!=2.7.*,!=2.8.*,!=2.9.*,<3.0.0,>=1.34.1->google-cloud-translate) (1.71.2)\n",
            "Requirement already satisfied: cachetools<6.0,>=2.0.0 in /usr/local/lib/python3.12/dist-packages (from google-auth!=2.24.0,!=2.25.0,<3.0.0,>=2.14.1->google-cloud-translate) (5.5.2)\n",
            "Requirement already satisfied: pyasn1-modules>=0.2.1 in /usr/local/lib/python3.12/dist-packages (from google-auth!=2.24.0,!=2.25.0,<3.0.0,>=2.14.1->google-cloud-translate) (0.4.2)\n",
            "Requirement already satisfied: rsa<5,>=3.1.4 in /usr/local/lib/python3.12/dist-packages (from google-auth!=2.24.0,!=2.25.0,<3.0.0,>=2.14.1->google-cloud-translate) (4.9.1)\n",
            "Requirement already satisfied: pyasn1<0.7.0,>=0.6.1 in /usr/local/lib/python3.12/dist-packages (from pyasn1-modules>=0.2.1->google-auth!=2.24.0,!=2.25.0,<3.0.0,>=2.14.1->google-cloud-translate) (0.6.1)\n",
            "Requirement already satisfied: charset_normalizer<4,>=2 in /usr/local/lib/python3.12/dist-packages (from requests<3.0.0,>=2.18.0->google-api-core!=2.0.*,!=2.1.*,!=2.10.*,!=2.2.*,!=2.3.*,!=2.4.*,!=2.5.*,!=2.6.*,!=2.7.*,!=2.8.*,!=2.9.*,<3.0.0,>=1.34.1->google-api-core[grpc]!=2.0.*,!=2.1.*,!=2.10.*,!=2.2.*,!=2.3.*,!=2.4.*,!=2.5.*,!=2.6.*,!=2.7.*,!=2.8.*,!=2.9.*,<3.0.0,>=1.34.1->google-cloud-translate) (3.4.3)\n",
            "Requirement already satisfied: idna<4,>=2.5 in /usr/local/lib/python3.12/dist-packages (from requests<3.0.0,>=2.18.0->google-api-core!=2.0.*,!=2.1.*,!=2.10.*,!=2.2.*,!=2.3.*,!=2.4.*,!=2.5.*,!=2.6.*,!=2.7.*,!=2.8.*,!=2.9.*,<3.0.0,>=1.34.1->google-api-core[grpc]!=2.0.*,!=2.1.*,!=2.10.*,!=2.2.*,!=2.3.*,!=2.4.*,!=2.5.*,!=2.6.*,!=2.7.*,!=2.8.*,!=2.9.*,<3.0.0,>=1.34.1->google-cloud-translate) (3.10)\n",
            "Requirement already satisfied: urllib3<3,>=1.21.1 in /usr/local/lib/python3.12/dist-packages (from requests<3.0.0,>=2.18.0->google-api-core!=2.0.*,!=2.1.*,!=2.10.*,!=2.2.*,!=2.3.*,!=2.4.*,!=2.5.*,!=2.6.*,!=2.7.*,!=2.8.*,!=2.9.*,<3.0.0,>=1.34.1->google-api-core[grpc]!=2.0.*,!=2.1.*,!=2.10.*,!=2.2.*,!=2.3.*,!=2.4.*,!=2.5.*,!=2.6.*,!=2.7.*,!=2.8.*,!=2.9.*,<3.0.0,>=1.34.1->google-cloud-translate) (2.5.0)\n",
            "Requirement already satisfied: certifi>=2017.4.17 in /usr/local/lib/python3.12/dist-packages (from requests<3.0.0,>=2.18.0->google-api-core!=2.0.*,!=2.1.*,!=2.10.*,!=2.2.*,!=2.3.*,!=2.4.*,!=2.5.*,!=2.6.*,!=2.7.*,!=2.8.*,!=2.9.*,<3.0.0,>=1.34.1->google-api-core[grpc]!=2.0.*,!=2.1.*,!=2.10.*,!=2.2.*,!=2.3.*,!=2.4.*,!=2.5.*,!=2.6.*,!=2.7.*,!=2.8.*,!=2.9.*,<3.0.0,>=1.34.1->google-cloud-translate) (2025.8.3)\n",
            "Requirement already satisfied: google-auth in /usr/local/lib/python3.12/dist-packages (2.38.0)\n",
            "Requirement already satisfied: google-auth-oauthlib in /usr/local/lib/python3.12/dist-packages (1.2.2)\n",
            "Requirement already satisfied: google-auth-httplib2 in /usr/local/lib/python3.12/dist-packages (0.2.0)\n",
            "Requirement already satisfied: cachetools<6.0,>=2.0.0 in /usr/local/lib/python3.12/dist-packages (from google-auth) (5.5.2)\n",
            "Requirement already satisfied: pyasn1-modules>=0.2.1 in /usr/local/lib/python3.12/dist-packages (from google-auth) (0.4.2)\n",
            "Requirement already satisfied: rsa<5,>=3.1.4 in /usr/local/lib/python3.12/dist-packages (from google-auth) (4.9.1)\n",
            "Requirement already satisfied: requests-oauthlib>=0.7.0 in /usr/local/lib/python3.12/dist-packages (from google-auth-oauthlib) (2.0.0)\n",
            "Requirement already satisfied: httplib2>=0.19.0 in /usr/local/lib/python3.12/dist-packages (from google-auth-httplib2) (0.30.0)\n",
            "Requirement already satisfied: pyparsing<4,>=3.0.4 in /usr/local/lib/python3.12/dist-packages (from httplib2>=0.19.0->google-auth-httplib2) (3.2.3)\n",
            "Requirement already satisfied: pyasn1<0.7.0,>=0.6.1 in /usr/local/lib/python3.12/dist-packages (from pyasn1-modules>=0.2.1->google-auth) (0.6.1)\n",
            "Requirement already satisfied: oauthlib>=3.0.0 in /usr/local/lib/python3.12/dist-packages (from requests-oauthlib>=0.7.0->google-auth-oauthlib) (3.3.1)\n",
            "Requirement already satisfied: requests>=2.0.0 in /usr/local/lib/python3.12/dist-packages (from requests-oauthlib>=0.7.0->google-auth-oauthlib) (2.32.4)\n",
            "Requirement already satisfied: charset_normalizer<4,>=2 in /usr/local/lib/python3.12/dist-packages (from requests>=2.0.0->requests-oauthlib>=0.7.0->google-auth-oauthlib) (3.4.3)\n",
            "Requirement already satisfied: idna<4,>=2.5 in /usr/local/lib/python3.12/dist-packages (from requests>=2.0.0->requests-oauthlib>=0.7.0->google-auth-oauthlib) (3.10)\n",
            "Requirement already satisfied: urllib3<3,>=1.21.1 in /usr/local/lib/python3.12/dist-packages (from requests>=2.0.0->requests-oauthlib>=0.7.0->google-auth-oauthlib) (2.5.0)\n",
            "Requirement already satisfied: certifi>=2017.4.17 in /usr/local/lib/python3.12/dist-packages (from requests>=2.0.0->requests-oauthlib>=0.7.0->google-auth-oauthlib) (2025.8.3)\n"
          ]
        }
      ],
      "source": [
        "# Install Google Cloud Translation API\n",
        "!pip install google-cloud-translate\n",
        "\n",
        "# Install additional dependencies\n",
        "!pip install google-auth google-auth-oauthlib google-auth-httplib2"
      ]
    },
    {
      "cell_type": "code",
      "source": [
        "# Upload your JSON key file\n",
        "from google.colab import files\n",
        "import os\n",
        "import json\n",
        "\n",
        "print(\"📁 Upload your service account JSON key file:\")\n",
        "uploaded = files.upload()\n",
        "\n",
        "# Get the uploaded filename\n",
        "key_filename = list(uploaded.keys())[0]\n",
        "print(f\"✅ Uploaded: {key_filename}\")\n",
        "\n",
        "# Set environment variable for authentication\n",
        "os.environ['GOOGLE_APPLICATION_CREDENTIALS'] = key_filename\n",
        "\n",
        "# Verify the key file\n",
        "with open(key_filename, 'r') as f:\n",
        "    key_data = json.load(f)\n",
        "    project_id = key_data['project_id']\n",
        "    client_email = key_data['client_email']\n",
        "\n",
        "print(f\"🔗 Project ID: {project_id}\")\n",
        "print(f\"📧 Service Account: {client_email}\")"
      ],
      "metadata": {
        "colab": {
          "base_uri": "https://localhost:8080/",
          "height": 140
        },
        "id": "Xf0Un5dxzh-s",
        "outputId": "53c85c4e-9003-46cb-8133-4e790b19b59f"
      },
      "execution_count": null,
      "outputs": [
        {
          "output_type": "stream",
          "name": "stdout",
          "text": [
            "📁 Upload your service account JSON key file:\n"
          ]
        },
        {
          "output_type": "display_data",
          "data": {
            "text/plain": [
              "<IPython.core.display.HTML object>"
            ],
            "text/html": [
              "\n",
              "     <input type=\"file\" id=\"files-77e40476-3ae5-44a2-8652-b38547894a23\" name=\"files[]\" multiple disabled\n",
              "        style=\"border:none\" />\n",
              "     <output id=\"result-77e40476-3ae5-44a2-8652-b38547894a23\">\n",
              "      Upload widget is only available when the cell has been executed in the\n",
              "      current browser session. Please rerun this cell to enable.\n",
              "      </output>\n",
              "      <script>// Copyright 2017 Google LLC\n",
              "//\n",
              "// Licensed under the Apache License, Version 2.0 (the \"License\");\n",
              "// you may not use this file except in compliance with the License.\n",
              "// You may obtain a copy of the License at\n",
              "//\n",
              "//      http://www.apache.org/licenses/LICENSE-2.0\n",
              "//\n",
              "// Unless required by applicable law or agreed to in writing, software\n",
              "// distributed under the License is distributed on an \"AS IS\" BASIS,\n",
              "// WITHOUT WARRANTIES OR CONDITIONS OF ANY KIND, either express or implied.\n",
              "// See the License for the specific language governing permissions and\n",
              "// limitations under the License.\n",
              "\n",
              "/**\n",
              " * @fileoverview Helpers for google.colab Python module.\n",
              " */\n",
              "(function(scope) {\n",
              "function span(text, styleAttributes = {}) {\n",
              "  const element = document.createElement('span');\n",
              "  element.textContent = text;\n",
              "  for (const key of Object.keys(styleAttributes)) {\n",
              "    element.style[key] = styleAttributes[key];\n",
              "  }\n",
              "  return element;\n",
              "}\n",
              "\n",
              "// Max number of bytes which will be uploaded at a time.\n",
              "const MAX_PAYLOAD_SIZE = 100 * 1024;\n",
              "\n",
              "function _uploadFiles(inputId, outputId) {\n",
              "  const steps = uploadFilesStep(inputId, outputId);\n",
              "  const outputElement = document.getElementById(outputId);\n",
              "  // Cache steps on the outputElement to make it available for the next call\n",
              "  // to uploadFilesContinue from Python.\n",
              "  outputElement.steps = steps;\n",
              "\n",
              "  return _uploadFilesContinue(outputId);\n",
              "}\n",
              "\n",
              "// This is roughly an async generator (not supported in the browser yet),\n",
              "// where there are multiple asynchronous steps and the Python side is going\n",
              "// to poll for completion of each step.\n",
              "// This uses a Promise to block the python side on completion of each step,\n",
              "// then passes the result of the previous step as the input to the next step.\n",
              "function _uploadFilesContinue(outputId) {\n",
              "  const outputElement = document.getElementById(outputId);\n",
              "  const steps = outputElement.steps;\n",
              "\n",
              "  const next = steps.next(outputElement.lastPromiseValue);\n",
              "  return Promise.resolve(next.value.promise).then((value) => {\n",
              "    // Cache the last promise value to make it available to the next\n",
              "    // step of the generator.\n",
              "    outputElement.lastPromiseValue = value;\n",
              "    return next.value.response;\n",
              "  });\n",
              "}\n",
              "\n",
              "/**\n",
              " * Generator function which is called between each async step of the upload\n",
              " * process.\n",
              " * @param {string} inputId Element ID of the input file picker element.\n",
              " * @param {string} outputId Element ID of the output display.\n",
              " * @return {!Iterable<!Object>} Iterable of next steps.\n",
              " */\n",
              "function* uploadFilesStep(inputId, outputId) {\n",
              "  const inputElement = document.getElementById(inputId);\n",
              "  inputElement.disabled = false;\n",
              "\n",
              "  const outputElement = document.getElementById(outputId);\n",
              "  outputElement.innerHTML = '';\n",
              "\n",
              "  const pickedPromise = new Promise((resolve) => {\n",
              "    inputElement.addEventListener('change', (e) => {\n",
              "      resolve(e.target.files);\n",
              "    });\n",
              "  });\n",
              "\n",
              "  const cancel = document.createElement('button');\n",
              "  inputElement.parentElement.appendChild(cancel);\n",
              "  cancel.textContent = 'Cancel upload';\n",
              "  const cancelPromise = new Promise((resolve) => {\n",
              "    cancel.onclick = () => {\n",
              "      resolve(null);\n",
              "    };\n",
              "  });\n",
              "\n",
              "  // Wait for the user to pick the files.\n",
              "  const files = yield {\n",
              "    promise: Promise.race([pickedPromise, cancelPromise]),\n",
              "    response: {\n",
              "      action: 'starting',\n",
              "    }\n",
              "  };\n",
              "\n",
              "  cancel.remove();\n",
              "\n",
              "  // Disable the input element since further picks are not allowed.\n",
              "  inputElement.disabled = true;\n",
              "\n",
              "  if (!files) {\n",
              "    return {\n",
              "      response: {\n",
              "        action: 'complete',\n",
              "      }\n",
              "    };\n",
              "  }\n",
              "\n",
              "  for (const file of files) {\n",
              "    const li = document.createElement('li');\n",
              "    li.append(span(file.name, {fontWeight: 'bold'}));\n",
              "    li.append(span(\n",
              "        `(${file.type || 'n/a'}) - ${file.size} bytes, ` +\n",
              "        `last modified: ${\n",
              "            file.lastModifiedDate ? file.lastModifiedDate.toLocaleDateString() :\n",
              "                                    'n/a'} - `));\n",
              "    const percent = span('0% done');\n",
              "    li.appendChild(percent);\n",
              "\n",
              "    outputElement.appendChild(li);\n",
              "\n",
              "    const fileDataPromise = new Promise((resolve) => {\n",
              "      const reader = new FileReader();\n",
              "      reader.onload = (e) => {\n",
              "        resolve(e.target.result);\n",
              "      };\n",
              "      reader.readAsArrayBuffer(file);\n",
              "    });\n",
              "    // Wait for the data to be ready.\n",
              "    let fileData = yield {\n",
              "      promise: fileDataPromise,\n",
              "      response: {\n",
              "        action: 'continue',\n",
              "      }\n",
              "    };\n",
              "\n",
              "    // Use a chunked sending to avoid message size limits. See b/62115660.\n",
              "    let position = 0;\n",
              "    do {\n",
              "      const length = Math.min(fileData.byteLength - position, MAX_PAYLOAD_SIZE);\n",
              "      const chunk = new Uint8Array(fileData, position, length);\n",
              "      position += length;\n",
              "\n",
              "      const base64 = btoa(String.fromCharCode.apply(null, chunk));\n",
              "      yield {\n",
              "        response: {\n",
              "          action: 'append',\n",
              "          file: file.name,\n",
              "          data: base64,\n",
              "        },\n",
              "      };\n",
              "\n",
              "      let percentDone = fileData.byteLength === 0 ?\n",
              "          100 :\n",
              "          Math.round((position / fileData.byteLength) * 100);\n",
              "      percent.textContent = `${percentDone}% done`;\n",
              "\n",
              "    } while (position < fileData.byteLength);\n",
              "  }\n",
              "\n",
              "  // All done.\n",
              "  yield {\n",
              "    response: {\n",
              "      action: 'complete',\n",
              "    }\n",
              "  };\n",
              "}\n",
              "\n",
              "scope.google = scope.google || {};\n",
              "scope.google.colab = scope.google.colab || {};\n",
              "scope.google.colab._files = {\n",
              "  _uploadFiles,\n",
              "  _uploadFilesContinue,\n",
              "};\n",
              "})(self);\n",
              "</script> "
            ]
          },
          "metadata": {}
        },
        {
          "output_type": "stream",
          "name": "stdout",
          "text": [
            "Saving qwiklabs-gcp-04-ff7c454f93e1-df16f207c192.json to qwiklabs-gcp-04-ff7c454f93e1-df16f207c192 (1).json\n",
            "✅ Uploaded: qwiklabs-gcp-04-ff7c454f93e1-df16f207c192 (1).json\n",
            "🔗 Project ID: qwiklabs-gcp-04-ff7c454f93e1\n",
            "📧 Service Account: translation-sa@qwiklabs-gcp-04-ff7c454f93e1.iam.gserviceaccount.com\n"
          ]
        }
      ]
    },
    {
      "cell_type": "code",
      "source": [
        "from google.cloud import translate\n",
        "\n",
        "# Initialize the translation client\n",
        "client = translate.TranslationServiceClient()\n",
        "project_id = key_data['project_id']  # From previous step\n",
        "\n",
        "print(\"✅ Translation client initialized successfully!\")\n",
        "print(f\"🌐 Using project: {project_id}\")"
      ],
      "metadata": {
        "colab": {
          "base_uri": "https://localhost:8080/"
        },
        "id": "jZ4SRXHozo2m",
        "outputId": "2548cff3-e5ca-4872-f3d3-7ca8b3c3b004"
      },
      "execution_count": null,
      "outputs": [
        {
          "output_type": "stream",
          "name": "stdout",
          "text": [
            "✅ Translation client initialized successfully!\n",
            "🌐 Using project: qwiklabs-gcp-04-ff7c454f93e1\n"
          ]
        }
      ]
    },
    {
      "cell_type": "code",
      "source": [
        "def translate_text(text, target_language='es', source_language=None):\n",
        "    \"\"\"\n",
        "    Translate text using Google Cloud Translation API\n",
        "\n",
        "    Args:\n",
        "        text (str): Text to translate\n",
        "        target_language (str): Target language code (e.g., 'es' for Spanish)\n",
        "        source_language (str): Source language code (optional, auto-detect if None)\n",
        "\n",
        "    Returns:\n",
        "        dict: Translation result with original text, translated text, and detected language\n",
        "    \"\"\"\n",
        "    try:\n",
        "        # Prepare the request\n",
        "        parent = f\"projects/{project_id}/locations/global\"\n",
        "\n",
        "        # Translate the text\n",
        "        response = client.translate_text(\n",
        "            contents=[text],\n",
        "            target_language_code=target_language,\n",
        "            source_language_code=source_language,\n",
        "            parent=parent\n",
        "        )\n",
        "\n",
        "        # Extract results\n",
        "        translation = response.translations[0]\n",
        "\n",
        "        result = {\n",
        "            'original_text': text,\n",
        "            'translated_text': translation.translated_text,\n",
        "            'detected_language': translation.detected_language_code if not source_language else source_language,\n",
        "            'target_language': target_language,\n",
        "            'success': True\n",
        "        }\n",
        "\n",
        "        return result\n",
        "\n",
        "    except Exception as e:\n",
        "        return {\n",
        "            'original_text': text,\n",
        "            'error': str(e),\n",
        "            'success': False\n",
        "        }\n",
        "\n",
        "# Test the function\n",
        "test_result = translate_text(\"Hello, world!\", \"es\")\n",
        "\n",
        "if test_result['success']:\n",
        "    print(\"🎉 Translation Test Successful!\")\n",
        "    print(f\"Original: {test_result['original_text']}\")\n",
        "    print(f\"Translation: {test_result['translated_text']}\")\n",
        "    print(f\"Detected Language: {test_result['detected_language']}\")\n",
        "else:\n",
        "    print(\"❌ Translation Failed:\")\n",
        "    print(f\"Error: {test_result['error']}\")"
      ],
      "metadata": {
        "colab": {
          "base_uri": "https://localhost:8080/"
        },
        "id": "fuJfcfwzzuYM",
        "outputId": "06c625bb-9c5e-4aa6-cf12-d0627556c2df"
      },
      "execution_count": null,
      "outputs": [
        {
          "output_type": "stream",
          "name": "stdout",
          "text": [
            "🎉 Translation Test Successful!\n",
            "Original: Hello, world!\n",
            "Translation: ¡Hola Mundo!\n",
            "Detected Language: en\n"
          ]
        }
      ]
    },
    {
      "cell_type": "code",
      "source": [
        "# If using Compute Engine default service account\n",
        "project_id = \"qwiklabs-gcp-04-ff7c454f93e1\"\n",
        "\n",
        "# Make sure your JSON key is for:\n",
        "# 727815218946-compute@developer.gserviceaccount.com\n",
        "# (This account already has Translation API User role)"
      ],
      "metadata": {
        "id": "WzmEyxxpz-6G"
      },
      "execution_count": null,
      "outputs": []
    },
    {
      "cell_type": "code",
      "source": [
        "# Test with minimal permissions check\n",
        "from google.cloud import translate\n",
        "\n",
        "try:\n",
        "    client = translate.TranslationServiceClient()\n",
        "\n",
        "    # Simple test\n",
        "    parent = f\"projects/{project_id}/locations/global\"\n",
        "    response = client.translate_text(\n",
        "        contents=[\"Hello\"],\n",
        "        target_language_code=\"es\",\n",
        "        parent=parent\n",
        "    )\n",
        "\n",
        "    print(\"✅ Permissions working!\")\n",
        "    print(f\"Translation: {response.translations[0].translated_text}\")\n",
        "\n",
        "except Exception as e:\n",
        "    print(f\"❌ Still getting error: {e}\")"
      ],
      "metadata": {
        "colab": {
          "base_uri": "https://localhost:8080/"
        },
        "id": "io2RiSIt0CPD",
        "outputId": "e246769a-908e-4d3c-d21a-77d0290322ba"
      },
      "execution_count": null,
      "outputs": [
        {
          "output_type": "stream",
          "name": "stdout",
          "text": [
            "✅ Permissions working!\n",
            "Translation: Hola\n"
          ]
        }
      ]
    },
    {
      "cell_type": "code",
      "source": [
        "# Check which service account you're using\n",
        "import json\n",
        "import os\n",
        "\n",
        "key_file = os.environ['GOOGLE_APPLICATION_CREDENTIALS']\n",
        "with open(key_file, 'r') as f:\n",
        "    key_data = json.load(f)\n",
        "\n",
        "print(f\"Service Account Email: {key_data['client_email']}\")\n",
        "print(f\"Project ID: {key_data['project_id']}\")"
      ],
      "metadata": {
        "colab": {
          "base_uri": "https://localhost:8080/"
        },
        "id": "_48HwPgo0Gxb",
        "outputId": "2d64d169-3495-43a1-e374-7448c179895b"
      },
      "execution_count": null,
      "outputs": [
        {
          "output_type": "stream",
          "name": "stdout",
          "text": [
            "Service Account Email: translation-sa@qwiklabs-gcp-04-ff7c454f93e1.iam.gserviceaccount.com\n",
            "Project ID: qwiklabs-gcp-04-ff7c454f93e1\n"
          ]
        }
      ]
    },
    {
      "cell_type": "code",
      "source": [
        "def translate_text(text, target_language='es', source_language=None):\n",
        "    \"\"\"\n",
        "    Translate text using Google Cloud Translation API\n",
        "\n",
        "    Args:\n",
        "        text (str): Text to translate\n",
        "        target_language (str): Target language code (e.g., 'es' for Spanish)\n",
        "        source_language (str): Source language code (optional, auto-detect if None)\n",
        "\n",
        "    Returns:\n",
        "        dict: Translation result with original text, translated text, and detected language\n",
        "    \"\"\"\n",
        "    try:\n",
        "        # Prepare the request\n",
        "        parent = f\"projects/{project_id}/locations/global\"\n",
        "\n",
        "        # Translate the text\n",
        "        response = client.translate_text(\n",
        "            contents=[text],\n",
        "            target_language_code=target_language,\n",
        "            source_language_code=source_language,\n",
        "            parent=parent\n",
        "        )\n",
        "\n",
        "        # Extract results\n",
        "        translation = response.translations[0]\n",
        "\n",
        "        result = {\n",
        "            'original_text': text,\n",
        "            'translated_text': translation.translated_text,\n",
        "            'detected_language': translation.detected_language_code if not source_language else source_language,\n",
        "            'target_language': target_language,\n",
        "            'success': True\n",
        "        }\n",
        "\n",
        "        return result\n",
        "\n",
        "    except Exception as e:\n",
        "        return {\n",
        "            'original_text': text,\n",
        "            'error': str(e),\n",
        "            'success': False\n",
        "        }\n",
        "\n",
        "# Test the function\n",
        "test_result = translate_text(\"Hello, world!\", \"es\")\n",
        "\n",
        "if test_result['success']:\n",
        "    print(\"🎉 Translation Test Successful!\")\n",
        "    print(f\"Original: {test_result['original_text']}\")\n",
        "    print(f\"Translation: {test_result['translated_text']}\")\n",
        "    print(f\"Detected Language: {test_result['detected_language']}\")\n",
        "else:\n",
        "    print(\"❌ Translation Failed:\")\n",
        "    print(f\"Error: {test_result['error']}\")"
      ],
      "metadata": {
        "colab": {
          "base_uri": "https://localhost:8080/"
        },
        "id": "_kv_JrD32F58",
        "outputId": "1bca00e7-0d9a-46bb-ad85-49a904297630"
      },
      "execution_count": null,
      "outputs": [
        {
          "output_type": "stream",
          "name": "stdout",
          "text": [
            "🎉 Translation Test Successful!\n",
            "Original: Hello, world!\n",
            "Translation: ¡Hola Mundo!\n",
            "Detected Language: en\n"
          ]
        }
      ]
    },
    {
      "cell_type": "code",
      "source": [
        "# Language codes and names\n",
        "LANGUAGES = {\n",
        "    'en': 'English',\n",
        "    'es': 'Spanish',\n",
        "    'fr': 'French',\n",
        "    'de': 'German',\n",
        "    'it': 'Italian',\n",
        "    'pt': 'Portuguese',\n",
        "    'ru': 'Russian',\n",
        "    'ja': 'Japanese',\n",
        "    'ko': 'Korean',\n",
        "    'zh': 'Chinese (Simplified)',\n",
        "    'ar': 'Arabic',\n",
        "    'hi': 'Hindi'\n",
        "}\n",
        "\n",
        "def multi_language_demo(text):\n",
        "    \"\"\"Translate text to multiple languages\"\"\"\n",
        "    print(f\"🌍 Translating: '{text}'\\n\")\n",
        "    print(\"=\" * 60)\n",
        "\n",
        "    results = []\n",
        "    for lang_code, lang_name in LANGUAGES.items():\n",
        "        if lang_code == 'en':  # Skip English as source\n",
        "            continue\n",
        "\n",
        "        result = translate_text(text, lang_code)\n",
        "        if result['success']:\n",
        "            print(f\"🇺🇸➡️  {lang_name:15} | {result['translated_text']}\")\n",
        "            results.append(result)\n",
        "        else:\n",
        "            print(f\"❌ {lang_name:15} | Error: {result['error']}\")\n",
        "\n",
        "    print(\"=\" * 60)\n",
        "    return results\n",
        "\n",
        "# Run the demo\n",
        "demo_results = multi_language_demo(\"Hello, how are you today?\")"
      ],
      "metadata": {
        "colab": {
          "base_uri": "https://localhost:8080/"
        },
        "id": "mkKdjuy22Lna",
        "outputId": "7776bb93-cb7d-4555-b9af-d950f6f3ecac"
      },
      "execution_count": null,
      "outputs": [
        {
          "output_type": "stream",
          "name": "stdout",
          "text": [
            "🌍 Translating: 'Hello, how are you today?'\n",
            "\n",
            "============================================================\n",
            "🇺🇸➡️  Spanish         | Hola, ¿cómo estás hoy?\n",
            "🇺🇸➡️  French          | Bonjour, comment allez-vous aujourd&#39;hui ?\n",
            "🇺🇸➡️  German          | Hallo, wie geht es dir heute?\n",
            "🇺🇸➡️  Italian         | Ciao, come stai oggi?\n",
            "🇺🇸➡️  Portuguese      | Olá, como você está hoje?\n",
            "🇺🇸➡️  Russian         | Привет, как дела?\n",
            "🇺🇸➡️  Japanese        | こんにちは、今日はお元気ですか？\n",
            "🇺🇸➡️  Korean          | 안녕하세요, 오늘은 어떻게 지내셨나요?\n",
            "🇺🇸➡️  Chinese (Simplified) | 你好，今天感觉怎么样？\n",
            "🇺🇸➡️  Arabic          | مرحباً، كيف حالك اليوم؟\n",
            "🇺🇸➡️  Hindi           | हैलो आज आप कैसे हैं?\n",
            "============================================================\n"
          ]
        }
      ]
    },
    {
      "cell_type": "code",
      "source": [
        "def detect_language(text):\n",
        "    \"\"\"Detect the language of given text\"\"\"\n",
        "    try:\n",
        "        parent = f\"projects/{project_id}/locations/global\"\n",
        "\n",
        "        response = client.detect_language(\n",
        "            content=text,\n",
        "            parent=parent\n",
        "        )\n",
        "\n",
        "        detected_lang = response.languages[0]\n",
        "\n",
        "        return {\n",
        "            'text': text,\n",
        "            'language_code': detected_lang.language_code,\n",
        "            'confidence': detected_lang.confidence,\n",
        "            'language_name': LANGUAGES.get(detected_lang.language_code, 'Unknown'),\n",
        "            'success': True\n",
        "        }\n",
        "\n",
        "    except Exception as e:\n",
        "        return {\n",
        "            'text': text,\n",
        "            'error': str(e),\n",
        "            'success': False\n",
        "        }\n",
        "\n",
        "# Test language detection\n",
        "test_texts = [\n",
        "    \"Bonjour, comment allez-vous?\",\n",
        "    \"Hola, ¿cómo estás?\",\n",
        "    \"Guten Tag, wie geht es Ihnen?\",\n",
        "    \"こんにちは、元気ですか？\",\n",
        "    \"Привет, как дела?\"\n",
        "]\n",
        "\n",
        "print(\"🔍 Language Detection Demo:\\n\")\n",
        "for text in test_texts:\n",
        "    result = detect_language(text)\n",
        "    if result['success']:\n",
        "        print(f\"Text: '{text}'\")\n",
        "        print(f\"Language: {result['language_name']} ({result['language_code']})\")\n",
        "        print(f\"Confidence: {result['confidence']:.2%}\\n\")\n",
        "    else:\n",
        "        print(f\"Error detecting language for: '{text}'\")\n",
        "        print(f\"Error: {result['error']}\\n\")"
      ],
      "metadata": {
        "colab": {
          "base_uri": "https://localhost:8080/"
        },
        "id": "nyBH0IGR2PWm",
        "outputId": "5826fa50-f88b-4332-f09d-bf3056aa0b75"
      },
      "execution_count": null,
      "outputs": [
        {
          "output_type": "stream",
          "name": "stdout",
          "text": [
            "🔍 Language Detection Demo:\n",
            "\n",
            "Text: 'Bonjour, comment allez-vous?'\n",
            "Language: French (fr)\n",
            "Confidence: 100.00%\n",
            "\n",
            "Text: 'Hola, ¿cómo estás?'\n",
            "Language: Spanish (es)\n",
            "Confidence: 100.00%\n",
            "\n",
            "Text: 'Guten Tag, wie geht es Ihnen?'\n",
            "Language: German (de)\n",
            "Confidence: 100.00%\n",
            "\n",
            "Text: 'こんにちは、元気ですか？'\n",
            "Language: Japanese (ja)\n",
            "Confidence: 100.00%\n",
            "\n",
            "Text: 'Привет, как дела?'\n",
            "Language: Russian (ru)\n",
            "Confidence: 100.00%\n",
            "\n"
          ]
        }
      ]
    },
    {
      "cell_type": "code",
      "source": [
        "def interactive_translator():\n",
        "    \"\"\"Interactive translation function\"\"\"\n",
        "    print(\"🌍 Interactive Google Cloud Translator\")\n",
        "    print(\"Type 'quit' to exit, 'languages' to see available languages\\n\")\n",
        "\n",
        "    while True:\n",
        "        # Get input text\n",
        "        text = input(\"Enter text to translate: \").strip()\n",
        "\n",
        "        if text.lower() == 'quit':\n",
        "            print(\"👋 Goodbye!\")\n",
        "            break\n",
        "\n",
        "        if text.lower() == 'languages':\n",
        "            print(\"\\n📋 Available Languages:\")\n",
        "            for code, name in LANGUAGES.items():\n",
        "                print(f\"  {code}: {name}\")\n",
        "            print()\n",
        "            continue\n",
        "\n",
        "        if not text:\n",
        "            print(\"Please enter some text!\\n\")\n",
        "            continue\n",
        "\n",
        "        # Get target language\n",
        "        target = input(\"Enter target language code (e.g., 'es' for Spanish): \").strip().lower()\n",
        "\n",
        "        if target not in LANGUAGES:\n",
        "            print(f\"❌ Invalid language code. Use 'languages' to see available options.\\n\")\n",
        "            continue\n",
        "\n",
        "        # Perform translation\n",
        "        print(\"\\n🔄 Translating...\")\n",
        "        result = translate_text(text, target)\n",
        "\n",
        "        if result['success']:\n",
        "            print(\"✅ Translation successful!\")\n",
        "            print(f\"Original ({result['detected_language']}): {result['original_text']}\")\n",
        "            print(f\"Translation ({target}): {result['translated_text']}\")\n",
        "        else:\n",
        "            print(\"❌ Translation failed!\")\n",
        "            print(f\"Error: {result['error']}\")\n",
        "\n",
        "        print(\"-\" * 50)\n",
        "\n",
        "# Uncomment to run interactive translator\n",
        "# interactive_translator()"
      ],
      "metadata": {
        "id": "s6zqEMtx2StK"
      },
      "execution_count": null,
      "outputs": []
    },
    {
      "cell_type": "code",
      "source": [
        "def batch_translate(texts, target_language):\n",
        "    \"\"\"Translate multiple texts at once\"\"\"\n",
        "    try:\n",
        "        parent = f\"projects/{project_id}/locations/global\"\n",
        "\n",
        "        response = client.translate_text(\n",
        "            contents=texts,\n",
        "            target_language_code=target_language,\n",
        "            parent=parent\n",
        "        )\n",
        "\n",
        "        results = []\n",
        "        for i, translation in enumerate(response.translations):\n",
        "            results.append({\n",
        "                'original': texts[i],\n",
        "                'translation': translation.translated_text,\n",
        "                'detected_language': translation.detected_language_code\n",
        "            })\n",
        "\n",
        "        return {\n",
        "            'results': results,\n",
        "            'success': True\n",
        "        }\n",
        "\n",
        "    except Exception as e:\n",
        "        return {\n",
        "            'error': str(e),\n",
        "            'success': False\n",
        "        }\n",
        "\n",
        "# Batch translation demo\n",
        "sample_texts = [\n",
        "    \"Hello, world!\",\n",
        "    \"How are you?\",\n",
        "    \"Thank you very much!\",\n",
        "    \"Good morning!\",\n",
        "    \"Have a great day!\"\n",
        "]\n",
        "\n",
        "print(\"📦 Batch Translation Demo (English to Spanish):\\n\")\n",
        "batch_result = batch_translate(sample_texts, 'es')\n",
        "\n",
        "if batch_result['success']:\n",
        "    for i, result in enumerate(batch_result['results'], 1):\n",
        "        print(f\"{i}. {result['original']} → {result['translation']}\")\n",
        "else:\n",
        "    print(f\"❌ Batch translation failed: {batch_result['error']}\")"
      ],
      "metadata": {
        "colab": {
          "base_uri": "https://localhost:8080/"
        },
        "id": "IWjr8j8O2WWQ",
        "outputId": "f82168f3-6557-4221-af4d-3faef883ef45"
      },
      "execution_count": null,
      "outputs": [
        {
          "output_type": "stream",
          "name": "stdout",
          "text": [
            "📦 Batch Translation Demo (English to Spanish):\n",
            "\n",
            "1. Hello, world! → ¡Hola Mundo!\n",
            "2. How are you? → ¿Cómo estás?\n",
            "3. Thank you very much! → ¡Muchas gracias!\n",
            "4. Good morning! → ¡Buen día!\n",
            "5. Have a great day! → ¡Qué tengas un lindo día!\n"
          ]
        }
      ]
    },
    {
      "cell_type": "code",
      "source": [
        "import pandas as pd\n",
        "from datetime import datetime\n",
        "\n",
        "def save_translation_results(results, filename=None):\n",
        "    \"\"\"Save translation results to CSV\"\"\"\n",
        "    if not filename:\n",
        "        timestamp = datetime.now().strftime(\"%Y%m%d_%H%M%S\")\n",
        "        filename = f\"translation_results_{timestamp}.csv\"\n",
        "\n",
        "    # Convert results to DataFrame\n",
        "    df = pd.DataFrame(results)\n",
        "\n",
        "    # Save to CSV\n",
        "    df.to_csv(filename, index=False)\n",
        "\n",
        "    print(f\"💾 Results saved to: {filename}\")\n",
        "    return filename\n",
        "\n",
        "# Save demo results if available\n",
        "if 'demo_results' in locals() and demo_results:\n",
        "    saved_file = save_translation_results(demo_results)\n",
        "\n",
        "    # Download the file\n",
        "    files.download(saved_file)"
      ],
      "metadata": {
        "colab": {
          "base_uri": "https://localhost:8080/",
          "height": 34
        },
        "id": "R7254H2M2aQG",
        "outputId": "0f752708-f42a-4e4f-f038-3eb31854c8bd"
      },
      "execution_count": null,
      "outputs": [
        {
          "output_type": "stream",
          "name": "stdout",
          "text": [
            "💾 Results saved to: translation_results_20250922_143437.csv\n"
          ]
        },
        {
          "output_type": "display_data",
          "data": {
            "text/plain": [
              "<IPython.core.display.Javascript object>"
            ],
            "application/javascript": [
              "\n",
              "    async function download(id, filename, size) {\n",
              "      if (!google.colab.kernel.accessAllowed) {\n",
              "        return;\n",
              "      }\n",
              "      const div = document.createElement('div');\n",
              "      const label = document.createElement('label');\n",
              "      label.textContent = `Downloading \"${filename}\": `;\n",
              "      div.appendChild(label);\n",
              "      const progress = document.createElement('progress');\n",
              "      progress.max = size;\n",
              "      div.appendChild(progress);\n",
              "      document.body.appendChild(div);\n",
              "\n",
              "      const buffers = [];\n",
              "      let downloaded = 0;\n",
              "\n",
              "      const channel = await google.colab.kernel.comms.open(id);\n",
              "      // Send a message to notify the kernel that we're ready.\n",
              "      channel.send({})\n",
              "\n",
              "      for await (const message of channel.messages) {\n",
              "        // Send a message to notify the kernel that we're ready.\n",
              "        channel.send({})\n",
              "        if (message.buffers) {\n",
              "          for (const buffer of message.buffers) {\n",
              "            buffers.push(buffer);\n",
              "            downloaded += buffer.byteLength;\n",
              "            progress.value = downloaded;\n",
              "          }\n",
              "        }\n",
              "      }\n",
              "      const blob = new Blob(buffers, {type: 'application/binary'});\n",
              "      const a = document.createElement('a');\n",
              "      a.href = window.URL.createObjectURL(blob);\n",
              "      a.download = filename;\n",
              "      div.appendChild(a);\n",
              "      a.click();\n",
              "      div.remove();\n",
              "    }\n",
              "  "
            ]
          },
          "metadata": {}
        },
        {
          "output_type": "display_data",
          "data": {
            "text/plain": [
              "<IPython.core.display.Javascript object>"
            ],
            "application/javascript": [
              "download(\"download_89e1108b-c0f5-4139-9c95-0c8983ccb20e\", \"translation_results_20250922_143437.csv\", 931)"
            ]
          },
          "metadata": {}
        }
      ]
    },
    {
      "cell_type": "code",
      "source": [
        "import time\n",
        "\n",
        "def performance_test():\n",
        "    \"\"\"Test translation performance\"\"\"\n",
        "    test_texts = [\n",
        "        \"Hello, world!\",\n",
        "        \"This is a longer sentence to test translation performance with more complex text.\",\n",
        "        \"The quick brown fox jumps over the lazy dog. This is a pangram used for testing.\",\n",
        "        \"Machine translation has come a long way with advances in artificial intelligence and neural networks.\"\n",
        "    ]\n",
        "\n",
        "    target_languages = ['es', 'fr', 'de', 'ja']\n",
        "\n",
        "    print(\"⚡ Performance Test Results:\\n\")\n",
        "    print(f\"{'Text Length':<15} {'Language':<10} {'Time (ms)':<12} {'Success'}\")\n",
        "    print(\"-\" * 50)\n",
        "\n",
        "    total_time = 0\n",
        "    success_count = 0\n",
        "    total_tests = len(test_texts) * len(target_languages)\n",
        "\n",
        "    for text in test_texts:\n",
        "        for lang in target_languages:\n",
        "            start_time = time.time()\n",
        "            result = translate_text(text, lang)\n",
        "            end_time = time.time()\n",
        "\n",
        "            duration_ms = (end_time - start_time) * 1000\n",
        "            total_time += duration_ms\n",
        "\n",
        "            if result['success']:\n",
        "                success_count += 1\n",
        "                status = \"✅\"\n",
        "            else:\n",
        "                status = \"❌\"\n",
        "\n",
        "            print(f\"{len(text):<15} {lang:<10} {duration_ms:<12.1f} {status}\")\n",
        "\n",
        "    print(\"-\" * 50)\n",
        "    print(f\"Average time per translation: {total_time/total_tests:.1f}ms\")\n",
        "    print(f\"Success rate: {success_count/total_tests:.1%}\")\n",
        "    print(f\"Total tests: {total_tests}\")\n",
        "\n",
        "# Run performance test\n",
        "performance_test()"
      ],
      "metadata": {
        "colab": {
          "base_uri": "https://localhost:8080/"
        },
        "id": "r2ta1dzp2ds9",
        "outputId": "05a0055f-94db-440b-92b4-823454114968"
      },
      "execution_count": null,
      "outputs": [
        {
          "output_type": "stream",
          "name": "stdout",
          "text": [
            "⚡ Performance Test Results:\n",
            "\n",
            "Text Length     Language   Time (ms)    Success\n",
            "--------------------------------------------------\n",
            "13              es         29.8         ✅\n",
            "13              fr         38.3         ✅\n",
            "13              de         99.0         ✅\n",
            "13              ja         55.1         ✅\n",
            "81              es         76.2         ✅\n",
            "81              fr         101.5        ✅\n",
            "81              de         100.5        ✅\n",
            "81              ja         112.2        ✅\n",
            "80              es         94.0         ✅\n",
            "80              fr         116.2        ✅\n",
            "80              de         57.4         ✅\n",
            "80              ja         68.2         ✅\n",
            "101             es         114.2        ✅\n",
            "101             fr         56.9         ✅\n",
            "101             de         95.0         ✅\n",
            "101             ja         139.2        ✅\n",
            "--------------------------------------------------\n",
            "Average time per translation: 84.6ms\n",
            "Success rate: 100.0%\n",
            "Total tests: 16\n"
          ]
        }
      ]
    },
    {
      "cell_type": "code",
      "source": [
        "pip install google-cloud-aiplatform"
      ],
      "metadata": {
        "colab": {
          "base_uri": "https://localhost:8080/"
        },
        "id": "FJFe8Sy63DMI",
        "outputId": "d879cbd6-d881-4b86-f003-0a11aff1ef81"
      },
      "execution_count": null,
      "outputs": [
        {
          "output_type": "stream",
          "name": "stdout",
          "text": [
            "Requirement already satisfied: google-cloud-aiplatform in /usr/local/lib/python3.12/dist-packages (1.111.0)\n",
            "Requirement already satisfied: google-api-core!=2.0.*,!=2.1.*,!=2.2.*,!=2.3.*,!=2.4.*,!=2.5.*,!=2.6.*,!=2.7.*,<3.0.0,>=1.34.1 in /usr/local/lib/python3.12/dist-packages (from google-api-core[grpc]!=2.0.*,!=2.1.*,!=2.2.*,!=2.3.*,!=2.4.*,!=2.5.*,!=2.6.*,!=2.7.*,<3.0.0,>=1.34.1->google-cloud-aiplatform) (2.25.1)\n",
            "Requirement already satisfied: google-auth<3.0.0,>=2.14.1 in /usr/local/lib/python3.12/dist-packages (from google-cloud-aiplatform) (2.38.0)\n",
            "Requirement already satisfied: proto-plus<2.0.0,>=1.22.3 in /usr/local/lib/python3.12/dist-packages (from google-cloud-aiplatform) (1.26.1)\n",
            "Requirement already satisfied: protobuf!=4.21.0,!=4.21.1,!=4.21.2,!=4.21.3,!=4.21.4,!=4.21.5,<7.0.0,>=3.20.2 in /usr/local/lib/python3.12/dist-packages (from google-cloud-aiplatform) (5.29.5)\n",
            "Requirement already satisfied: packaging>=14.3 in /usr/local/lib/python3.12/dist-packages (from google-cloud-aiplatform) (25.0)\n",
            "Requirement already satisfied: google-cloud-storage<3.0.0,>=1.32.0 in /usr/local/lib/python3.12/dist-packages (from google-cloud-aiplatform) (2.19.0)\n",
            "Requirement already satisfied: google-cloud-bigquery!=3.20.0,<4.0.0,>=1.15.0 in /usr/local/lib/python3.12/dist-packages (from google-cloud-aiplatform) (3.37.0)\n",
            "Requirement already satisfied: google-cloud-resource-manager<3.0.0,>=1.3.3 in /usr/local/lib/python3.12/dist-packages (from google-cloud-aiplatform) (1.14.2)\n",
            "Requirement already satisfied: shapely<3.0.0 in /usr/local/lib/python3.12/dist-packages (from google-cloud-aiplatform) (2.1.1)\n",
            "Requirement already satisfied: google-genai<2.0.0,>=1.0.0 in /usr/local/lib/python3.12/dist-packages (from google-cloud-aiplatform) (1.34.0)\n",
            "Requirement already satisfied: pydantic<3 in /usr/local/lib/python3.12/dist-packages (from google-cloud-aiplatform) (2.11.7)\n",
            "Requirement already satisfied: typing_extensions in /usr/local/lib/python3.12/dist-packages (from google-cloud-aiplatform) (4.15.0)\n",
            "Requirement already satisfied: docstring_parser<1 in /usr/local/lib/python3.12/dist-packages (from google-cloud-aiplatform) (0.17.0)\n",
            "Requirement already satisfied: googleapis-common-protos<2.0.0,>=1.56.2 in /usr/local/lib/python3.12/dist-packages (from google-api-core!=2.0.*,!=2.1.*,!=2.2.*,!=2.3.*,!=2.4.*,!=2.5.*,!=2.6.*,!=2.7.*,<3.0.0,>=1.34.1->google-api-core[grpc]!=2.0.*,!=2.1.*,!=2.2.*,!=2.3.*,!=2.4.*,!=2.5.*,!=2.6.*,!=2.7.*,<3.0.0,>=1.34.1->google-cloud-aiplatform) (1.70.0)\n",
            "Requirement already satisfied: requests<3.0.0,>=2.18.0 in /usr/local/lib/python3.12/dist-packages (from google-api-core!=2.0.*,!=2.1.*,!=2.2.*,!=2.3.*,!=2.4.*,!=2.5.*,!=2.6.*,!=2.7.*,<3.0.0,>=1.34.1->google-api-core[grpc]!=2.0.*,!=2.1.*,!=2.2.*,!=2.3.*,!=2.4.*,!=2.5.*,!=2.6.*,!=2.7.*,<3.0.0,>=1.34.1->google-cloud-aiplatform) (2.32.4)\n",
            "Requirement already satisfied: grpcio<2.0.0,>=1.33.2 in /usr/local/lib/python3.12/dist-packages (from google-api-core[grpc]!=2.0.*,!=2.1.*,!=2.2.*,!=2.3.*,!=2.4.*,!=2.5.*,!=2.6.*,!=2.7.*,<3.0.0,>=1.34.1->google-cloud-aiplatform) (1.74.0)\n",
            "Requirement already satisfied: grpcio-status<2.0.0,>=1.33.2 in /usr/local/lib/python3.12/dist-packages (from google-api-core[grpc]!=2.0.*,!=2.1.*,!=2.2.*,!=2.3.*,!=2.4.*,!=2.5.*,!=2.6.*,!=2.7.*,<3.0.0,>=1.34.1->google-cloud-aiplatform) (1.71.2)\n",
            "Requirement already satisfied: cachetools<6.0,>=2.0.0 in /usr/local/lib/python3.12/dist-packages (from google-auth<3.0.0,>=2.14.1->google-cloud-aiplatform) (5.5.2)\n",
            "Requirement already satisfied: pyasn1-modules>=0.2.1 in /usr/local/lib/python3.12/dist-packages (from google-auth<3.0.0,>=2.14.1->google-cloud-aiplatform) (0.4.2)\n",
            "Requirement already satisfied: rsa<5,>=3.1.4 in /usr/local/lib/python3.12/dist-packages (from google-auth<3.0.0,>=2.14.1->google-cloud-aiplatform) (4.9.1)\n",
            "Requirement already satisfied: google-cloud-core<3.0.0,>=2.4.1 in /usr/local/lib/python3.12/dist-packages (from google-cloud-bigquery!=3.20.0,<4.0.0,>=1.15.0->google-cloud-aiplatform) (2.4.3)\n",
            "Requirement already satisfied: google-resumable-media<3.0.0,>=2.0.0 in /usr/local/lib/python3.12/dist-packages (from google-cloud-bigquery!=3.20.0,<4.0.0,>=1.15.0->google-cloud-aiplatform) (2.7.2)\n",
            "Requirement already satisfied: python-dateutil<3.0.0,>=2.8.2 in /usr/local/lib/python3.12/dist-packages (from google-cloud-bigquery!=3.20.0,<4.0.0,>=1.15.0->google-cloud-aiplatform) (2.9.0.post0)\n",
            "Requirement already satisfied: grpc-google-iam-v1<1.0.0,>=0.14.0 in /usr/local/lib/python3.12/dist-packages (from google-cloud-resource-manager<3.0.0,>=1.3.3->google-cloud-aiplatform) (0.14.2)\n",
            "Requirement already satisfied: google-crc32c<2.0dev,>=1.0 in /usr/local/lib/python3.12/dist-packages (from google-cloud-storage<3.0.0,>=1.32.0->google-cloud-aiplatform) (1.7.1)\n",
            "Requirement already satisfied: anyio<5.0.0,>=4.8.0 in /usr/local/lib/python3.12/dist-packages (from google-genai<2.0.0,>=1.0.0->google-cloud-aiplatform) (4.10.0)\n",
            "Requirement already satisfied: httpx<1.0.0,>=0.28.1 in /usr/local/lib/python3.12/dist-packages (from google-genai<2.0.0,>=1.0.0->google-cloud-aiplatform) (0.28.1)\n",
            "Requirement already satisfied: tenacity<9.2.0,>=8.2.3 in /usr/local/lib/python3.12/dist-packages (from google-genai<2.0.0,>=1.0.0->google-cloud-aiplatform) (8.5.0)\n",
            "Requirement already satisfied: websockets<15.1.0,>=13.0.0 in /usr/local/lib/python3.12/dist-packages (from google-genai<2.0.0,>=1.0.0->google-cloud-aiplatform) (15.0.1)\n",
            "Requirement already satisfied: annotated-types>=0.6.0 in /usr/local/lib/python3.12/dist-packages (from pydantic<3->google-cloud-aiplatform) (0.7.0)\n",
            "Requirement already satisfied: pydantic-core==2.33.2 in /usr/local/lib/python3.12/dist-packages (from pydantic<3->google-cloud-aiplatform) (2.33.2)\n",
            "Requirement already satisfied: typing-inspection>=0.4.0 in /usr/local/lib/python3.12/dist-packages (from pydantic<3->google-cloud-aiplatform) (0.4.1)\n",
            "Requirement already satisfied: numpy>=1.21 in /usr/local/lib/python3.12/dist-packages (from shapely<3.0.0->google-cloud-aiplatform) (2.0.2)\n",
            "Requirement already satisfied: idna>=2.8 in /usr/local/lib/python3.12/dist-packages (from anyio<5.0.0,>=4.8.0->google-genai<2.0.0,>=1.0.0->google-cloud-aiplatform) (3.10)\n",
            "Requirement already satisfied: sniffio>=1.1 in /usr/local/lib/python3.12/dist-packages (from anyio<5.0.0,>=4.8.0->google-genai<2.0.0,>=1.0.0->google-cloud-aiplatform) (1.3.1)\n",
            "Requirement already satisfied: certifi in /usr/local/lib/python3.12/dist-packages (from httpx<1.0.0,>=0.28.1->google-genai<2.0.0,>=1.0.0->google-cloud-aiplatform) (2025.8.3)\n",
            "Requirement already satisfied: httpcore==1.* in /usr/local/lib/python3.12/dist-packages (from httpx<1.0.0,>=0.28.1->google-genai<2.0.0,>=1.0.0->google-cloud-aiplatform) (1.0.9)\n",
            "Requirement already satisfied: h11>=0.16 in /usr/local/lib/python3.12/dist-packages (from httpcore==1.*->httpx<1.0.0,>=0.28.1->google-genai<2.0.0,>=1.0.0->google-cloud-aiplatform) (0.16.0)\n",
            "Requirement already satisfied: pyasn1<0.7.0,>=0.6.1 in /usr/local/lib/python3.12/dist-packages (from pyasn1-modules>=0.2.1->google-auth<3.0.0,>=2.14.1->google-cloud-aiplatform) (0.6.1)\n",
            "Requirement already satisfied: six>=1.5 in /usr/local/lib/python3.12/dist-packages (from python-dateutil<3.0.0,>=2.8.2->google-cloud-bigquery!=3.20.0,<4.0.0,>=1.15.0->google-cloud-aiplatform) (1.17.0)\n",
            "Requirement already satisfied: charset_normalizer<4,>=2 in /usr/local/lib/python3.12/dist-packages (from requests<3.0.0,>=2.18.0->google-api-core!=2.0.*,!=2.1.*,!=2.2.*,!=2.3.*,!=2.4.*,!=2.5.*,!=2.6.*,!=2.7.*,<3.0.0,>=1.34.1->google-api-core[grpc]!=2.0.*,!=2.1.*,!=2.2.*,!=2.3.*,!=2.4.*,!=2.5.*,!=2.6.*,!=2.7.*,<3.0.0,>=1.34.1->google-cloud-aiplatform) (3.4.3)\n",
            "Requirement already satisfied: urllib3<3,>=1.21.1 in /usr/local/lib/python3.12/dist-packages (from requests<3.0.0,>=2.18.0->google-api-core!=2.0.*,!=2.1.*,!=2.2.*,!=2.3.*,!=2.4.*,!=2.5.*,!=2.6.*,!=2.7.*,<3.0.0,>=1.34.1->google-api-core[grpc]!=2.0.*,!=2.1.*,!=2.2.*,!=2.3.*,!=2.4.*,!=2.5.*,!=2.6.*,!=2.7.*,<3.0.0,>=1.34.1->google-cloud-aiplatform) (2.5.0)\n"
          ]
        }
      ]
    },
    {
      "cell_type": "code",
      "source": [
        "pip install google-cloud-translate"
      ],
      "metadata": {
        "colab": {
          "base_uri": "https://localhost:8080/"
        },
        "id": "9kL6VHUX3unk",
        "outputId": "34b0dd39-7026-493d-e389-0ea440c05ca1"
      },
      "execution_count": null,
      "outputs": [
        {
          "output_type": "stream",
          "name": "stdout",
          "text": [
            "Requirement already satisfied: google-cloud-translate in /usr/local/lib/python3.12/dist-packages (3.21.1)\n",
            "Requirement already satisfied: google-api-core!=2.0.*,!=2.1.*,!=2.10.*,!=2.2.*,!=2.3.*,!=2.4.*,!=2.5.*,!=2.6.*,!=2.7.*,!=2.8.*,!=2.9.*,<3.0.0,>=1.34.1 in /usr/local/lib/python3.12/dist-packages (from google-api-core[grpc]!=2.0.*,!=2.1.*,!=2.10.*,!=2.2.*,!=2.3.*,!=2.4.*,!=2.5.*,!=2.6.*,!=2.7.*,!=2.8.*,!=2.9.*,<3.0.0,>=1.34.1->google-cloud-translate) (2.25.1)\n",
            "Requirement already satisfied: google-auth!=2.24.0,!=2.25.0,<3.0.0,>=2.14.1 in /usr/local/lib/python3.12/dist-packages (from google-cloud-translate) (2.38.0)\n",
            "Requirement already satisfied: google-cloud-core<3.0.0,>=1.4.4 in /usr/local/lib/python3.12/dist-packages (from google-cloud-translate) (2.4.3)\n",
            "Requirement already satisfied: proto-plus<2.0.0,>=1.22.3 in /usr/local/lib/python3.12/dist-packages (from google-cloud-translate) (1.26.1)\n",
            "Requirement already satisfied: protobuf!=4.21.0,!=4.21.1,!=4.21.2,!=4.21.3,!=4.21.4,!=4.21.5,<7.0.0,>=3.20.2 in /usr/local/lib/python3.12/dist-packages (from google-cloud-translate) (5.29.5)\n",
            "Requirement already satisfied: grpc-google-iam-v1<1.0.0,>=0.14.0 in /usr/local/lib/python3.12/dist-packages (from google-cloud-translate) (0.14.2)\n",
            "Requirement already satisfied: googleapis-common-protos<2.0.0,>=1.56.2 in /usr/local/lib/python3.12/dist-packages (from google-api-core!=2.0.*,!=2.1.*,!=2.10.*,!=2.2.*,!=2.3.*,!=2.4.*,!=2.5.*,!=2.6.*,!=2.7.*,!=2.8.*,!=2.9.*,<3.0.0,>=1.34.1->google-api-core[grpc]!=2.0.*,!=2.1.*,!=2.10.*,!=2.2.*,!=2.3.*,!=2.4.*,!=2.5.*,!=2.6.*,!=2.7.*,!=2.8.*,!=2.9.*,<3.0.0,>=1.34.1->google-cloud-translate) (1.70.0)\n",
            "Requirement already satisfied: requests<3.0.0,>=2.18.0 in /usr/local/lib/python3.12/dist-packages (from google-api-core!=2.0.*,!=2.1.*,!=2.10.*,!=2.2.*,!=2.3.*,!=2.4.*,!=2.5.*,!=2.6.*,!=2.7.*,!=2.8.*,!=2.9.*,<3.0.0,>=1.34.1->google-api-core[grpc]!=2.0.*,!=2.1.*,!=2.10.*,!=2.2.*,!=2.3.*,!=2.4.*,!=2.5.*,!=2.6.*,!=2.7.*,!=2.8.*,!=2.9.*,<3.0.0,>=1.34.1->google-cloud-translate) (2.32.4)\n",
            "Requirement already satisfied: grpcio<2.0.0,>=1.33.2 in /usr/local/lib/python3.12/dist-packages (from google-api-core[grpc]!=2.0.*,!=2.1.*,!=2.10.*,!=2.2.*,!=2.3.*,!=2.4.*,!=2.5.*,!=2.6.*,!=2.7.*,!=2.8.*,!=2.9.*,<3.0.0,>=1.34.1->google-cloud-translate) (1.74.0)\n",
            "Requirement already satisfied: grpcio-status<2.0.0,>=1.33.2 in /usr/local/lib/python3.12/dist-packages (from google-api-core[grpc]!=2.0.*,!=2.1.*,!=2.10.*,!=2.2.*,!=2.3.*,!=2.4.*,!=2.5.*,!=2.6.*,!=2.7.*,!=2.8.*,!=2.9.*,<3.0.0,>=1.34.1->google-cloud-translate) (1.71.2)\n",
            "Requirement already satisfied: cachetools<6.0,>=2.0.0 in /usr/local/lib/python3.12/dist-packages (from google-auth!=2.24.0,!=2.25.0,<3.0.0,>=2.14.1->google-cloud-translate) (5.5.2)\n",
            "Requirement already satisfied: pyasn1-modules>=0.2.1 in /usr/local/lib/python3.12/dist-packages (from google-auth!=2.24.0,!=2.25.0,<3.0.0,>=2.14.1->google-cloud-translate) (0.4.2)\n",
            "Requirement already satisfied: rsa<5,>=3.1.4 in /usr/local/lib/python3.12/dist-packages (from google-auth!=2.24.0,!=2.25.0,<3.0.0,>=2.14.1->google-cloud-translate) (4.9.1)\n",
            "Requirement already satisfied: pyasn1<0.7.0,>=0.6.1 in /usr/local/lib/python3.12/dist-packages (from pyasn1-modules>=0.2.1->google-auth!=2.24.0,!=2.25.0,<3.0.0,>=2.14.1->google-cloud-translate) (0.6.1)\n",
            "Requirement already satisfied: charset_normalizer<4,>=2 in /usr/local/lib/python3.12/dist-packages (from requests<3.0.0,>=2.18.0->google-api-core!=2.0.*,!=2.1.*,!=2.10.*,!=2.2.*,!=2.3.*,!=2.4.*,!=2.5.*,!=2.6.*,!=2.7.*,!=2.8.*,!=2.9.*,<3.0.0,>=1.34.1->google-api-core[grpc]!=2.0.*,!=2.1.*,!=2.10.*,!=2.2.*,!=2.3.*,!=2.4.*,!=2.5.*,!=2.6.*,!=2.7.*,!=2.8.*,!=2.9.*,<3.0.0,>=1.34.1->google-cloud-translate) (3.4.3)\n",
            "Requirement already satisfied: idna<4,>=2.5 in /usr/local/lib/python3.12/dist-packages (from requests<3.0.0,>=2.18.0->google-api-core!=2.0.*,!=2.1.*,!=2.10.*,!=2.2.*,!=2.3.*,!=2.4.*,!=2.5.*,!=2.6.*,!=2.7.*,!=2.8.*,!=2.9.*,<3.0.0,>=1.34.1->google-api-core[grpc]!=2.0.*,!=2.1.*,!=2.10.*,!=2.2.*,!=2.3.*,!=2.4.*,!=2.5.*,!=2.6.*,!=2.7.*,!=2.8.*,!=2.9.*,<3.0.0,>=1.34.1->google-cloud-translate) (3.10)\n",
            "Requirement already satisfied: urllib3<3,>=1.21.1 in /usr/local/lib/python3.12/dist-packages (from requests<3.0.0,>=2.18.0->google-api-core!=2.0.*,!=2.1.*,!=2.10.*,!=2.2.*,!=2.3.*,!=2.4.*,!=2.5.*,!=2.6.*,!=2.7.*,!=2.8.*,!=2.9.*,<3.0.0,>=1.34.1->google-api-core[grpc]!=2.0.*,!=2.1.*,!=2.10.*,!=2.2.*,!=2.3.*,!=2.4.*,!=2.5.*,!=2.6.*,!=2.7.*,!=2.8.*,!=2.9.*,<3.0.0,>=1.34.1->google-cloud-translate) (2.5.0)\n",
            "Requirement already satisfied: certifi>=2017.4.17 in /usr/local/lib/python3.12/dist-packages (from requests<3.0.0,>=2.18.0->google-api-core!=2.0.*,!=2.1.*,!=2.10.*,!=2.2.*,!=2.3.*,!=2.4.*,!=2.5.*,!=2.6.*,!=2.7.*,!=2.8.*,!=2.9.*,<3.0.0,>=1.34.1->google-api-core[grpc]!=2.0.*,!=2.1.*,!=2.10.*,!=2.2.*,!=2.3.*,!=2.4.*,!=2.5.*,!=2.6.*,!=2.7.*,!=2.8.*,!=2.9.*,<3.0.0,>=1.34.1->google-cloud-translate) (2025.8.3)\n"
          ]
        }
      ]
    }
  ]
}